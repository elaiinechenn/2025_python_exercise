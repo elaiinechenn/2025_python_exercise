{
 "cells": [
  {
   "cell_type": "markdown",
   "metadata": {
    "deletable": false,
    "editable": false,
    "nbgrader": {
     "cell_type": "markdown",
     "checksum": "2910f12a23c1054530a7c9f4ef2817e0",
     "grade": false,
     "grade_id": "cell-abd6a7a10cea3583",
     "locked": true,
     "schema_version": 3,
     "solution": false,
     "task": false
    }
   },
   "source": [
    "# Activity: Creating Visualizations\n",
    "\n",
    "## Introduction\n",
    "\n",
    "In this activity you will practice using Pandas functionality to create \n",
    "visualizations.\n",
    "\n",
    "This activity will cover the following topics:\n",
    "- Creating individual and multiple box plots in one visualization.\n",
    "- Creating individual and multiple histograms in one visualization.\n",
    "- Creating scatter plots.\n"
   ]
  },
  {
   "cell_type": "code",
   "execution_count": 1,
   "metadata": {
    "deletable": false,
    "editable": false,
    "nbgrader": {
     "cell_type": "code",
     "checksum": "cb44a8f2a56151dbb60789a06a0b6417",
     "grade": false,
     "grade_id": "cell-ea60d430c3c9a57c",
     "locked": true,
     "schema_version": 3,
     "solution": false,
     "task": false
    }
   },
   "outputs": [],
   "source": [
    "import pandas as pd\n",
    "\n",
    "# Data from https://github.com/mwaskom/seaborn-data/blob/2b29313169bf8dfa77d8dc930f7bd3eba559a906/mpg.csv\n",
    "df = pd.read_csv('mpg.csv')"
   ]
  },
  {
   "cell_type": "markdown",
   "metadata": {
    "deletable": false,
    "editable": false,
    "nbgrader": {
     "cell_type": "markdown",
     "checksum": "889eda4718152c809071a09629a2c681",
     "grade": false,
     "grade_id": "cell-42efc1902ed49487",
     "locked": true,
     "schema_version": 3,
     "solution": false,
     "task": false
    }
   },
   "source": [
    "#### Question 1\n",
    "\n",
    "Create a box plot from `df` using Pandas. Assign the number of box plots that\n",
    "are created in the visualization to the variable `n_box_plots`."
   ]
  },
  {
   "cell_type": "code",
   "execution_count": 2,
   "metadata": {
    "deletable": false,
    "nbgrader": {
     "cell_type": "code",
     "checksum": "1ee2fd75208080ad8bd78712dc7f6bf9",
     "grade": false,
     "grade_id": "cell-42805a0ffa8c278e",
     "locked": false,
     "schema_version": 3,
     "solution": true,
     "task": false
    }
   },
   "outputs": [
    {
     "data": {
      "image/png": "[encoded data removed]",
      "text/plain": [
       "<Figure size 432x288 with 1 Axes>"
      ]
     },
     "metadata": {
      "needs_background": "light"
     },
     "output_type": "display_data"
    }
   ],
   "source": [
    "# Your code here\n",
    "\n",
    "df.plot.box()\n",
    "n_box_plots = df.select_dtypes(include = 'number').shape[-1]"
   ]
  },
  {
   "cell_type": "code",
   "execution_count": 3,
   "metadata": {
    "deletable": false,
    "editable": false,
    "nbgrader": {
     "cell_type": "code",
     "checksum": "19087e99d1f899f4a272165b7b8bdc38",
     "grade": true,
     "grade_id": "cell-24df988d26b9c638",
     "locked": true,
     "points": 1,
     "schema_version": 3,
     "solution": false,
     "task": false
    }
   },
   "outputs": [],
   "source": [
    "# Question 1 Grading Checks\n",
    "\n",
    "assert isinstance(n_box_plots, int), 'Did you assign a number (integer) to n_box_plots representing the number of box plots that were created?'"
   ]
  },
  {
   "cell_type": "markdown",
   "metadata": {
    "deletable": false,
    "editable": false,
    "nbgrader": {
     "cell_type": "markdown",
     "checksum": "56ff1b53932e5a71b5b358f6c63d5b32",
     "grade": false,
     "grade_id": "cell-762f5aff2895e162",
     "locked": true,
     "schema_version": 3,
     "solution": false,
     "task": false
    }
   },
   "source": [
    "#### Question 2\n",
    "\n",
    "Using Pandas, create a visualization with box plots for the columns `cylinders`\n",
    "& `model_year`. What is the smallest and largest number label on the axis\n",
    "(representing values)?\n",
    "\n",
    "Assign a best approximation of the smallest number label that is visible on the axis to the variable \n",
    "`smallest_label` and the largest number label to the variable `largest_label`. "
   ]
  },
  {
   "cell_type": "code",
   "execution_count": 6,
   "metadata": {
    "deletable": false,
    "nbgrader": {
     "cell_type": "code",
     "checksum": "36b16ad06ae0a0b047d184d54d17ebde",
     "grade": false,
     "grade_id": "cell-639cad323476f857",
     "locked": false,
     "schema_version": 3,
     "solution": true,
     "task": false
    }
   },
   "outputs": [
    {
     "data": {
      "image/png": "[encoded data removed]",
      "text/plain": [
       "<Figure size 432x288 with 1 Axes>"
      ]
     },
     "metadata": {
      "needs_background": "light"
     },
     "output_type": "display_data"
    }
   ],
   "source": [
    "# Your code here\n",
    "ax = df[['model_year','cylinders']].plot.box()\n",
    "\n",
    "all_labels = ax.get_yticks()\n",
    "\n",
    "smallest_label = all_labels[1]\n",
    "largest_label = all_labels[-2]"
   ]
  },
  {
   "cell_type": "code",
   "execution_count": 7,
   "metadata": {
    "deletable": false,
    "editable": false,
    "nbgrader": {
     "cell_type": "code",
     "checksum": "e50adebc97facf0c10d82185d04daf6b",
     "grade": true,
     "grade_id": "cell-9ff73f2857ed882c",
     "locked": true,
     "points": 1,
     "schema_version": 3,
     "solution": false,
     "task": false
    }
   },
   "outputs": [],
   "source": [
    "# Question 2 Grading Checks\n",
    "\n",
    "assert isinstance(smallest_label, (int, float)), 'Did you assign smallest_label a number value?'\n",
    "assert isinstance(largest_label, (int, float)), 'Did you assign largest_label a number value?'"
   ]
  },
  {
   "cell_type": "markdown",
   "metadata": {
    "deletable": false,
    "editable": false,
    "nbgrader": {
     "cell_type": "markdown",
     "checksum": "7a6384af61bf1cdb38522d6e6c18df08",
     "grade": false,
     "grade_id": "cell-e353efd172cc673f",
     "locked": true,
     "schema_version": 3,
     "solution": false,
     "task": false
    }
   },
   "source": [
    "#### Question 3\n",
    "\n",
    "Using Pandas, create a visualization of a histogram for the `acceleration`\n",
    "column.\n",
    "What is the approximate number for the peak of this histogram?\n",
    "\n",
    "Assign the approximate number for the peak to the variable `approx_peak_height`."
   ]
  },
  {
   "cell_type": "code",
   "execution_count": 8,
   "metadata": {
    "deletable": false,
    "nbgrader": {
     "cell_type": "code",
     "checksum": "f397e3baf37346275a9e0d6ac7c378e8",
     "grade": false,
     "grade_id": "cell-119809466c7aa88e",
     "locked": false,
     "schema_version": 3,
     "solution": true,
     "task": false
    }
   },
   "outputs": [
    {
     "data": {
      "image/png": "[encoded data removed]",
      "text/plain": [
       "<Figure size 432x288 with 1 Axes>"
      ]
     },
     "metadata": {
      "needs_background": "light"
     },
     "output_type": "display_data"
    }
   ],
   "source": [
    "# Your code here\n",
    "\n",
    "ax = df['acceleration'].plot.hist()\n",
    "\n",
    "approx_peak_height = max([patch.get_height() for patch in ax.patches])"
   ]
  },
  {
   "cell_type": "code",
   "execution_count": 9,
   "metadata": {
    "deletable": false,
    "editable": false,
    "nbgrader": {
     "cell_type": "code",
     "checksum": "343a3a1f41443261b22fe34478779370",
     "grade": true,
     "grade_id": "cell-2a415bb4b446814a",
     "locked": true,
     "points": 1,
     "schema_version": 3,
     "solution": false,
     "task": false
    }
   },
   "outputs": [],
   "source": [
    "# Question 3 Grading Checks\n",
    "\n",
    "\n",
    "assert isinstance(approx_peak_height, (int, float)), 'Did you assign approx_peak_height a number value?'"
   ]
  },
  {
   "cell_type": "markdown",
   "metadata": {
    "deletable": false,
    "editable": false,
    "nbgrader": {
     "cell_type": "markdown",
     "checksum": "a2d14ff780a621bac5a72b1046bec0e5",
     "grade": false,
     "grade_id": "cell-38996c1235996429",
     "locked": true,
     "schema_version": 3,
     "solution": false,
     "task": false
    }
   },
   "source": [
    "#### Question 4\n",
    "\n",
    "Using Pandas, create a scatter plot of `acceleration` vs `mpg` (`acceleration` \n",
    "on the x-axis and `mpg` y-axis).\n",
    "What is the largest number label on the y-axis (representing `mpg`)?\n",
    "\n",
    "Assign a best approximate for the largest number label on the `mpg` axis that is visible on the axis\n",
    "to the variable `largest_mpg_label`. "
   ]
  },
  {
   "cell_type": "code",
   "execution_count": 10,
   "metadata": {
    "deletable": false,
    "nbgrader": {
     "cell_type": "code",
     "checksum": "97dc482ac5a1eef93c7e9044bc626d5f",
     "grade": false,
     "grade_id": "cell-e744f46b13335128",
     "locked": false,
     "schema_version": 3,
     "solution": true,
     "task": false
    }
   },
   "outputs": [
    {
     "data": {
      "image/png": "[encoded data removed]",
      "text/plain": [
       "<Figure size 432x288 with 1 Axes>"
      ]
     },
     "metadata": {
      "needs_background": "light"
     },
     "output_type": "display_data"
    }
   ],
   "source": [
    "# Your code here\n",
    "\n",
    "ax = df.plot.scatter(x ='acceleration', y = 'mpg')\n",
    "all_mpg_labels = ax.get_yticks()\n",
    "largest_mpg_label = all_mpg_labels[-2]"
   ]
  },
  {
   "cell_type": "code",
   "execution_count": 11,
   "metadata": {
    "deletable": false,
    "editable": false,
    "nbgrader": {
     "cell_type": "code",
     "checksum": "d45cf81591a3f46f1f20a4f787848b06",
     "grade": true,
     "grade_id": "cell-898cdf14fc5fed10",
     "locked": true,
     "points": 1,
     "schema_version": 3,
     "solution": false,
     "task": false
    }
   },
   "outputs": [],
   "source": [
    "# Question 4 Grading Checks\n",
    "\n",
    "assert isinstance(largest_mpg_label, (int, float)), 'Did you assign largest_mpg_label a number value?'"
   ]
  },
  {
   "cell_type": "code",
   "execution_count": null,
   "metadata": {},
   "outputs": [],
   "source": []
  }
 ],
 "metadata": {
  "kernelspec": {
   "display_name": "Python 3",
   "language": "python",
   "name": "python3"
  },
  "language_info": {
   "codemirror_mode": {
    "name": "ipython",
    "version": 3
   },
   "file_extension": ".py",
   "mimetype": "text/x-python",
   "name": "python",
   "nbconvert_exporter": "python",
   "pygments_lexer": "ipython3",
   "version": "3.7.6"
  }
 },
 "nbformat": 4,
 "nbformat_minor": 4
}
